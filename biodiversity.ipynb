{
 "cells": [
  {
   "cell_type": "markdown",
   "metadata": {},
   "source": [
    "# Biodiversity Project\n",
    "For this project, we will interpret data from the National Parks Service about endangered species in different parks."
   ]
  },
  {
   "cell_type": "markdown",
   "metadata": {},
   "source": [
    "### Import needed modules\n",
    "The next cell will hold the modules that we will use in the course of this data analysis."
   ]
  },
  {
   "cell_type": "code",
   "execution_count": 301,
   "metadata": {},
   "outputs": [],
   "source": [
    "import re\n",
    "import seaborn as sns\n",
    "import pandas as pd\n",
    "import numpy as np\n",
    "from matplotlib import pyplot as plt\n",
    "from scipy.stats import chi2_contingency\n"
   ]
  },
  {
   "cell_type": "markdown",
   "metadata": {},
   "source": [
    "## Loading and Describing the data\n",
    "A good starting point for every DataScience project. We need to check what we actually have available.\n",
    "Both `Observations.csv` and `Species_info.csv` was provided by [Codecademy.com](https://www.codecademy.com).\n",
    "Once we understand the data at our disposal, we can start formulating questions that we can answer with this data."
   ]
  },
  {
   "cell_type": "code",
   "execution_count": 190,
   "metadata": {},
   "outputs": [],
   "source": [
    "# Codecademy has provided 2 CSV files\n",
    "# Start by loading them usinf Pandas\n",
    "observations = pd.read_csv(\"./biodiversity_starter/observations.csv\")\n",
    "species_info = pd.read_csv(\"./biodiversity_starter/species_info.csv\")"
   ]
  },
  {
   "cell_type": "markdown",
   "metadata": {},
   "source": [
    "### Spiecies_info\n",
    "I will focus first on describing the contents of spiecies_info."
   ]
  },
  {
   "cell_type": "code",
   "execution_count": 5,
   "metadata": {},
   "outputs": [
    {
     "name": "stdout",
     "output_type": "stream",
     "text": [
      "Index(['category', 'scientific_name', 'common_names', 'conservation_status'], dtype='object')\n",
      "category               object\n",
      "scientific_name        object\n",
      "common_names           object\n",
      "conservation_status    object\n",
      "dtype: object\n",
      "              category    scientific_name        common_names  \\\n",
      "count             5824               5824                5824   \n",
      "unique               7               5541                5504   \n",
      "top     Vascular Plant  Castor canadensis  Brachythecium Moss   \n",
      "freq              4470                  3                   7   \n",
      "\n",
      "       conservation_status  \n",
      "count                  191  \n",
      "unique                   4  \n",
      "top     Species of Concern  \n",
      "freq                   161  \n",
      "  category                scientific_name  \\\n",
      "0   Mammal  Clethrionomys gapperi gapperi   \n",
      "1   Mammal                      Bos bison   \n",
      "2   Mammal                     Bos taurus   \n",
      "3   Mammal                     Ovis aries   \n",
      "4   Mammal                 Cervus elaphus   \n",
      "5   Mammal         Odocoileus virginianus   \n",
      "6   Mammal                     Sus scrofa   \n",
      "7   Mammal                  Canis latrans   \n",
      "8   Mammal                    Canis lupus   \n",
      "9   Mammal                    Canis rufus   \n",
      "\n",
      "                                        common_names conservation_status  \n",
      "0                           Gapper's Red-Backed Vole                 NaN  \n",
      "1                              American Bison, Bison                 NaN  \n",
      "2  Aurochs, Aurochs, Domestic Cattle (Feral), Dom...                 NaN  \n",
      "3  Domestic Sheep, Mouflon, Red Sheep, Sheep (Feral)                 NaN  \n",
      "4                                      Wapiti Or Elk                 NaN  \n",
      "5                                  White-Tailed Deer                 NaN  \n",
      "6                                Feral Hog, Wild Pig                 NaN  \n",
      "7                                             Coyote  Species of Concern  \n",
      "8                                          Gray Wolf          Endangered  \n",
      "9                                           Red Wolf          Endangered  \n"
     ]
    }
   ],
   "source": [
    "print(species_info.columns) # Which columns are available.\n",
    "print(species_info.dtypes) # Which types of data. Does this make sense?\n",
    "print(species_info.describe()) # short summary statistics\n",
    "print(species_info.head(10)) # and visualy check the first 10 rows."
   ]
  },
  {
   "cell_type": "markdown",
   "metadata": {},
   "source": [
    "It seems that this is a table on all the spiecies that we will have observations from. Included are category, scientific name, common names, and conservation status. The collumn conservation status contains NaN values, which might indicate species of least concern.\n",
    "\n",
    "We will now dive a bit deeper into the collumns of the Species info csv."
   ]
  },
  {
   "cell_type": "markdown",
   "metadata": {},
   "source": [
    "#### Data cleanup.\n",
    "One of the points of attention in spiecies info is that there is a count of 5824 scientific_names reported, but only 5541 of them are unique. As suposedly species name is unique, let us investigate what is going on."
   ]
  },
  {
   "cell_type": "code",
   "execution_count": 191,
   "metadata": {},
   "outputs": [
    {
     "name": "stdout",
     "output_type": "stream",
     "text": [
      "     category         scientific_name                          common_names  \\\n",
      "3017   Mammal          Cervus elaphus                    Rocky Mountain Elk   \n",
      "3019   Mammal  Odocoileus virginianus  White-Tailed Deer, White-Tailed Deer   \n",
      "3020   Mammal             Canis lupus                       Gray Wolf, Wolf   \n",
      "3022   Mammal           Puma concolor           Cougar, Mountain Lion, Puma   \n",
      "3025   Mammal        Lutra canadensis                           River Otter   \n",
      "\n",
      "     conservation_status  \n",
      "3017                 NaN  \n",
      "3019                 NaN  \n",
      "3020         In Recovery  \n",
      "3022                 NaN  \n",
      "3025                 NaN  \n"
     ]
    }
   ],
   "source": [
    "print(species_info[species_info.duplicated(subset=\"scientific_name\")].head(5))"
   ]
  },
  {
   "cell_type": "markdown",
   "metadata": {},
   "source": [
    "So we know that a _Cervus elaphus_ and _Puma concolor_ are posted at least twice. Let us inspect the entries."
   ]
  },
  {
   "cell_type": "code",
   "execution_count": 194,
   "metadata": {},
   "outputs": [
    {
     "name": "stdout",
     "output_type": "stream",
     "text": [
      "     category scientific_name        common_names conservation_status\n",
      "4      Mammal  Cervus elaphus       Wapiti Or Elk                 NaN\n",
      "3017   Mammal  Cervus elaphus  Rocky Mountain Elk                 NaN\n",
      "     category scientific_name                 common_names conservation_status\n",
      "16     Mammal   Puma concolor      Panther (Mountain Lion)                 NaN\n",
      "3022   Mammal   Puma concolor  Cougar, Mountain Lion, Puma                 NaN\n",
      "4451   Mammal   Puma concolor                Mountain Lion                 NaN\n"
     ]
    }
   ],
   "source": [
    "print(species_info[species_info.apply(lambda row: row[\"scientific_name\"]==\"Cervus elaphus\", axis=1)])\n",
    "print(species_info[species_info.apply(lambda row: row[\"scientific_name\"]==\"Puma concolor\", axis=1)])"
   ]
  },
  {
   "cell_type": "markdown",
   "metadata": {},
   "source": [
    "It seems that more common names of the same spiecies turned up, and instead of adding to the old entry, somebody created a new one. We can join the enties together, and delete the duplicates to get a cleaner dataframe."
   ]
  },
  {
   "cell_type": "code",
   "execution_count": 195,
   "metadata": {},
   "outputs": [],
   "source": [
    "def cleanup(dataframe, key_column, property_column):\n",
    "    \"\"\"Function to clean up a dataframe.\n",
    "     One column is supposed to be the key_column, while a second one holds properies for that key.\n",
    "     In case of a duplicate entry in the key collumn:\n",
    "      properties are added to the first instance, and the second instance is dropped.\n",
    "    This is repeated until no more duplicates are found.\n",
    "    \"\"\"\n",
    "    cleaned = False\n",
    "    while not cleaned:\n",
    "        duplicated = dataframe[dataframe.duplicated(subset=key_column)]\n",
    "        if duplicated.shape[0] == 0:\n",
    "            cleaned = True\n",
    "        else:\n",
    "            key = duplicated.iloc[0][key_column]\n",
    "            label = duplicated.index[0]\n",
    "            entry = duplicated.iloc[0][property_column]\n",
    "            label2 = dataframe[dataframe.apply(lambda row: row[key_column]==key, axis=1)].index[0]\n",
    "            dataframe.loc[label2, property_column] += \", \" + entry\n",
    "            dataframe = dataframe.drop(label)\n",
    "            \n",
    "    return dataframe\n",
    "\n",
    "\n",
    "species_cleaned = cleanup(species_info, \"scientific_name\", \"common_names\")"
   ]
  },
  {
   "cell_type": "markdown",
   "metadata": {},
   "source": [
    "with category."
   ]
  },
  {
   "cell_type": "code",
   "execution_count": 196,
   "metadata": {},
   "outputs": [
    {
     "name": "stdout",
     "output_type": "stream",
     "text": [
      "Number of species: 7 \n",
      "\n",
      "List of species present in the survey: ['Mammal' 'Bird' 'Reptile' 'Amphibian' 'Fish' 'Vascular Plant'\n",
      " 'Nonvascular Plant'] \n",
      "\n",
      "Distribution of species amongst categories: \n",
      "category\n",
      "Amphibian              79\n",
      "Bird                  488\n",
      "Fish                  125\n",
      "Mammal                176\n",
      "Nonvascular Plant     333\n",
      "Reptile                78\n",
      "Vascular Plant       4262\n",
      "dtype: int64\n",
      "\n",
      "Distribution in percentage of total spiecies:\n",
      "category\n",
      "Amphibian             1.425735\n",
      "Bird                  8.807075\n",
      "Fish                  2.255910\n",
      "Mammal                3.176322\n",
      "Nonvascular Plant     6.009746\n",
      "Reptile               1.407688\n",
      "Vascular Plant       76.917524\n",
      "dtype: float64\n"
     ]
    }
   ],
   "source": [
    "print(f\"Number of species: {species_cleaned.category.nunique()} \\n\")\n",
    "print(f\"List of species present in the survey: {species_cleaned.category.unique()} \\n\")\n",
    "print(\"Distribution of species amongst categories: \")\n",
    "print(species_cleaned.groupby(\"category\").size())\n",
    "print(\"\")\n",
    "print(\"Distribution in percentage of total spiecies:\")\n",
    "print(species_cleaned.groupby(\"category\").size()/species_cleaned.category.size*100)"
   ]
  },
  {
   "cell_type": "markdown",
   "metadata": {},
   "source": [
    "We see that of all the species tracked, the vast majority (76.9%) are _vascular plants_. _Birds_ are a distant second with almost 9%.\n",
    "\n",
    "A first thing to investigate would be to see if the same percantages are reflected in conservation satus, or if that is skewed towards other types of species.\n",
    "In order to do so, we will replace the NaN with _least_concern_."
   ]
  },
  {
   "cell_type": "code",
   "execution_count": 197,
   "metadata": {},
   "outputs": [
    {
     "name": "stdout",
     "output_type": "stream",
     "text": [
      "There are 5 types of conservation status.\n",
      "They are: ['least_concern' 'Species of Concern' 'Endangered' 'Threatened'\n",
      " 'In Recovery']\n"
     ]
    }
   ],
   "source": [
    "species_cleaned.conservation_status.fillna(\"least_concern\", inplace=True)\n",
    "print(f\"There are {species_cleaned.conservation_status.nunique()} types of conservation status.\")\n",
    "print(f\"They are: {species_cleaned.conservation_status.unique()}\")"
   ]
  },
  {
   "cell_type": "markdown",
   "metadata": {},
   "source": [
    "Now, how does this play out amongst categories?"
   ]
  },
  {
   "cell_type": "code",
   "execution_count": 198,
   "metadata": {},
   "outputs": [
    {
     "data": {
      "text/html": [
       "<div>\n",
       "<style scoped>\n",
       "    .dataframe tbody tr th:only-of-type {\n",
       "        vertical-align: middle;\n",
       "    }\n",
       "\n",
       "    .dataframe tbody tr th {\n",
       "        vertical-align: top;\n",
       "    }\n",
       "\n",
       "    .dataframe thead th {\n",
       "        text-align: right;\n",
       "    }\n",
       "</style>\n",
       "<table border=\"1\" class=\"dataframe\">\n",
       "  <thead>\n",
       "    <tr style=\"text-align: right;\">\n",
       "      <th>category</th>\n",
       "      <th>Amphibian</th>\n",
       "      <th>Bird</th>\n",
       "      <th>Fish</th>\n",
       "      <th>Mammal</th>\n",
       "      <th>Nonvascular Plant</th>\n",
       "      <th>Reptile</th>\n",
       "      <th>Vascular Plant</th>\n",
       "    </tr>\n",
       "    <tr>\n",
       "      <th>conservation_status</th>\n",
       "      <th></th>\n",
       "      <th></th>\n",
       "      <th></th>\n",
       "      <th></th>\n",
       "      <th></th>\n",
       "      <th></th>\n",
       "      <th></th>\n",
       "    </tr>\n",
       "  </thead>\n",
       "  <tbody>\n",
       "    <tr>\n",
       "      <th>Endangered</th>\n",
       "      <td>1.0</td>\n",
       "      <td>4.0</td>\n",
       "      <td>3.0</td>\n",
       "      <td>6.0</td>\n",
       "      <td>NaN</td>\n",
       "      <td>NaN</td>\n",
       "      <td>1.0</td>\n",
       "    </tr>\n",
       "    <tr>\n",
       "      <th>In Recovery</th>\n",
       "      <td>NaN</td>\n",
       "      <td>3.0</td>\n",
       "      <td>NaN</td>\n",
       "      <td>NaN</td>\n",
       "      <td>NaN</td>\n",
       "      <td>NaN</td>\n",
       "      <td>NaN</td>\n",
       "    </tr>\n",
       "    <tr>\n",
       "      <th>Species of Concern</th>\n",
       "      <td>4.0</td>\n",
       "      <td>68.0</td>\n",
       "      <td>4.0</td>\n",
       "      <td>22.0</td>\n",
       "      <td>5.0</td>\n",
       "      <td>5.0</td>\n",
       "      <td>43.0</td>\n",
       "    </tr>\n",
       "    <tr>\n",
       "      <th>Threatened</th>\n",
       "      <td>2.0</td>\n",
       "      <td>NaN</td>\n",
       "      <td>3.0</td>\n",
       "      <td>2.0</td>\n",
       "      <td>NaN</td>\n",
       "      <td>NaN</td>\n",
       "      <td>2.0</td>\n",
       "    </tr>\n",
       "    <tr>\n",
       "      <th>least_concern</th>\n",
       "      <td>72.0</td>\n",
       "      <td>413.0</td>\n",
       "      <td>115.0</td>\n",
       "      <td>146.0</td>\n",
       "      <td>328.0</td>\n",
       "      <td>73.0</td>\n",
       "      <td>4216.0</td>\n",
       "    </tr>\n",
       "  </tbody>\n",
       "</table>\n",
       "</div>"
      ],
      "text/plain": [
       "category             Amphibian   Bird   Fish  Mammal  Nonvascular Plant  \\\n",
       "conservation_status                                                       \n",
       "Endangered                 1.0    4.0    3.0     6.0                NaN   \n",
       "In Recovery                NaN    3.0    NaN     NaN                NaN   \n",
       "Species of Concern         4.0   68.0    4.0    22.0                5.0   \n",
       "Threatened                 2.0    NaN    3.0     2.0                NaN   \n",
       "least_concern             72.0  413.0  115.0   146.0              328.0   \n",
       "\n",
       "category             Reptile  Vascular Plant  \n",
       "conservation_status                           \n",
       "Endangered               NaN             1.0  \n",
       "In Recovery              NaN             NaN  \n",
       "Species of Concern       5.0            43.0  \n",
       "Threatened               NaN             2.0  \n",
       "least_concern           73.0          4216.0  "
      ]
     },
     "execution_count": 198,
     "metadata": {},
     "output_type": "execute_result"
    }
   ],
   "source": [
    "conservation_status = species_cleaned.groupby([\"conservation_status\", \"category\"])[\"scientific_name\"].count().unstack()\n",
    "\n",
    "conservation_status"
   ]
  },
  {
   "cell_type": "markdown",
   "metadata": {},
   "source": [
    "This is a bit too much info to process easily.\n",
    "In order to clarify things, we will simplify the data to two possible status: Protected and not Protected."
   ]
  },
  {
   "cell_type": "code",
   "execution_count": 200,
   "metadata": {},
   "outputs": [
    {
     "name": "stdout",
     "output_type": "stream",
     "text": [
      "Unprotected and Protected # of species per category\n",
      "is_protected       False  True \n",
      "category                       \n",
      "Amphibian             72      7\n",
      "Bird                 413     75\n",
      "Fish                 115     10\n",
      "Mammal               146     30\n",
      "Nonvascular Plant    328      5\n",
      "Reptile               73      5\n",
      "Vascular Plant      4216     46\n",
      "\n",
      "Unprotected and Protected % of species per category\n"
     ]
    },
    {
     "data": {
      "text/html": [
       "<div>\n",
       "<style scoped>\n",
       "    .dataframe tbody tr th:only-of-type {\n",
       "        vertical-align: middle;\n",
       "    }\n",
       "\n",
       "    .dataframe tbody tr th {\n",
       "        vertical-align: top;\n",
       "    }\n",
       "\n",
       "    .dataframe thead th {\n",
       "        text-align: right;\n",
       "    }\n",
       "</style>\n",
       "<table border=\"1\" class=\"dataframe\">\n",
       "  <thead>\n",
       "    <tr style=\"text-align: right;\">\n",
       "      <th>is_protected</th>\n",
       "      <th>False</th>\n",
       "      <th>True</th>\n",
       "    </tr>\n",
       "    <tr>\n",
       "      <th>category</th>\n",
       "      <th></th>\n",
       "      <th></th>\n",
       "    </tr>\n",
       "  </thead>\n",
       "  <tbody>\n",
       "    <tr>\n",
       "      <th>Amphibian</th>\n",
       "      <td>91.139241</td>\n",
       "      <td>8.860759</td>\n",
       "    </tr>\n",
       "    <tr>\n",
       "      <th>Bird</th>\n",
       "      <td>84.631148</td>\n",
       "      <td>15.368852</td>\n",
       "    </tr>\n",
       "    <tr>\n",
       "      <th>Fish</th>\n",
       "      <td>92.000000</td>\n",
       "      <td>8.000000</td>\n",
       "    </tr>\n",
       "    <tr>\n",
       "      <th>Mammal</th>\n",
       "      <td>82.954545</td>\n",
       "      <td>17.045455</td>\n",
       "    </tr>\n",
       "    <tr>\n",
       "      <th>Nonvascular Plant</th>\n",
       "      <td>98.498498</td>\n",
       "      <td>1.501502</td>\n",
       "    </tr>\n",
       "    <tr>\n",
       "      <th>Reptile</th>\n",
       "      <td>93.589744</td>\n",
       "      <td>6.410256</td>\n",
       "    </tr>\n",
       "    <tr>\n",
       "      <th>Vascular Plant</th>\n",
       "      <td>98.920695</td>\n",
       "      <td>1.079305</td>\n",
       "    </tr>\n",
       "  </tbody>\n",
       "</table>\n",
       "</div>"
      ],
      "text/plain": [
       "is_protected           False      True \n",
       "category                               \n",
       "Amphibian          91.139241   8.860759\n",
       "Bird               84.631148  15.368852\n",
       "Fish               92.000000   8.000000\n",
       "Mammal             82.954545  17.045455\n",
       "Nonvascular Plant  98.498498   1.501502\n",
       "Reptile            93.589744   6.410256\n",
       "Vascular Plant     98.920695   1.079305"
      ]
     },
     "execution_count": 200,
     "metadata": {},
     "output_type": "execute_result"
    }
   ],
   "source": [
    "species_cleaned[\"is_protected\"] = species_cleaned[\"conservation_status\"] != \"least_concern\"\n",
    "\n",
    "print(\"Unprotected and Protected # of species per category\")\n",
    "print(species_cleaned.groupby([\"category\",  \"is_protected\"])[\"scientific_name\"].count().unstack())\n",
    "\n",
    "print(\"\")\n",
    "\n",
    "print(\"Unprotected and Protected % of species per category\")\n",
    "(species_cleaned.groupby([\"category\",  \"is_protected\"])[\"scientific_name\"].count()/(species_cleaned.groupby(\"category\").size())*100).unstack()"
   ]
  },
  {
   "cell_type": "markdown",
   "metadata": {},
   "source": [
    "So as a first point, it seems that Birds and Mammals with 15% and 17% of protected spiecies are doing the worst. Next is the group containing Amhibians, Fish, and Reptiles. Both Vascular and Nonvascular plants seem to be the least affected types of spiecies.\n",
    "To see if these differences are actually significant and the groups well defined, we will calculate the P value for:\n",
    "Mamal vs. Bird, Mammal vs. Fish, Fish vs. Reptile, Fish vs. Nonvascular Plant.\n",
    "We expect no significal difference for Mamal vs. Bird or Fish vs. Reptile."
   ]
  },
  {
   "cell_type": "code",
   "execution_count": 201,
   "metadata": {},
   "outputs": [
    {
     "name": "stdout",
     "output_type": "stream",
     "text": [
      "P_values smaller than 0.05 are typically considered indicators of a significant difference.\n",
      "The p_value for a chi2 difference between Mammals and Birds is: 0.6875948096661336.\n",
      "The p_value for a chi2 difference between Mammals and Fish is: 0.03521990485242024.\n",
      "The p_value for a chi2 difference between Reptiles and Fish is: 0.8844187103100194.\n",
      "The p_value for a chi2 difference between Nonvascular plants and Fish is: 0.0014420708083000965.\n"
     ]
    }
   ],
   "source": [
    "_, p_value, _, _ = chi2_contingency([[30, 146],[75, 413]])\n",
    "print(\"P_values smaller than 0.05 are typically considered indicators of a significant difference.\")\n",
    "print(f\"The p_value for a chi2 difference between Mammals and Birds is: {p_value}.\")\n",
    "\n",
    "_, p_value, _, _ = chi2_contingency([[30, 146],[10, 115]])\n",
    "print(f\"The p_value for a chi2 difference between Mammals and Fish is: {p_value}.\")\n",
    "\n",
    "_, p_value, _, _ = chi2_contingency([[5, 73],[10, 115]])\n",
    "print(f\"The p_value for a chi2 difference between Reptiles and Fish is: {p_value}.\")\n",
    "\n",
    "_, p_value, _, _ = chi2_contingency([[5, 328],[10, 115]])\n",
    "print(f\"The p_value for a chi2 difference between Nonvascular plants and Fish is: {p_value}.\")"
   ]
  },
  {
   "cell_type": "markdown",
   "metadata": {},
   "source": [
    "It seems that we judged the categories correctly, and the calculated p_values support our three groups."
   ]
  },
  {
   "cell_type": "markdown",
   "metadata": {},
   "source": [
    "### Observations\n",
    "Now it is time to turn our attention to the observation dataset."
   ]
  },
  {
   "cell_type": "code",
   "execution_count": 202,
   "metadata": {},
   "outputs": [
    {
     "name": "stdout",
     "output_type": "stream",
     "text": [
      "Index(['scientific_name', 'park_name', 'observations'], dtype='object')\n",
      "scientific_name    object\n",
      "park_name          object\n",
      "observations        int64\n",
      "dtype: object\n",
      "       observations\n",
      "count  23296.000000\n",
      "mean     142.287904\n",
      "std       69.890532\n",
      "min        9.000000\n",
      "25%       86.000000\n",
      "50%      124.000000\n",
      "75%      195.000000\n",
      "max      321.000000\n",
      "                     scientific_name                            park_name  \\\n",
      "0                 Vicia benghalensis  Great Smoky Mountains National Park   \n",
      "1                     Neovison vison  Great Smoky Mountains National Park   \n",
      "2                  Prunus subcordata               Yosemite National Park   \n",
      "3               Abutilon theophrasti                  Bryce National Park   \n",
      "4           Githopsis specularioides  Great Smoky Mountains National Park   \n",
      "5  Elymus virginicus var. virginicus               Yosemite National Park   \n",
      "6                   Spizella pusilla            Yellowstone National Park   \n",
      "7                  Elymus multisetus  Great Smoky Mountains National Park   \n",
      "8             Lysimachia quadrifolia               Yosemite National Park   \n",
      "9         Diphyscium cumberlandianum            Yellowstone National Park   \n",
      "\n",
      "   observations  \n",
      "0            68  \n",
      "1            77  \n",
      "2           138  \n",
      "3            84  \n",
      "4            85  \n",
      "5           112  \n",
      "6           228  \n",
      "7            39  \n",
      "8           168  \n",
      "9           250  \n"
     ]
    }
   ],
   "source": [
    "print(observations.columns) # Which columns are available.\n",
    "print(observations.dtypes) # Which types of data. Does this make sense?\n",
    "print(observations.describe()) # short summary statistics\n",
    "print(observations.head(10)) # and visualy check the first 10 rows."
   ]
  },
  {
   "cell_type": "markdown",
   "metadata": {},
   "source": [
    "Here we have a column indicating the scientific name of the spiecies observed, another is the name of the park, and last is how many of those spiecies were observed in said park.\n",
    "\n",
    "We can see which park has the most observation of spiecies."
   ]
  },
  {
   "cell_type": "code",
   "execution_count": 203,
   "metadata": {},
   "outputs": [
    {
     "data": {
      "text/plain": [
       "park_name\n",
       "Bryce National Park                     576025\n",
       "Great Smoky Mountains National Park     431820\n",
       "Yellowstone National Park              1443562\n",
       "Yosemite National Park                  863332\n",
       "Name: observations, dtype: int64"
      ]
     },
     "execution_count": 203,
     "metadata": {},
     "output_type": "execute_result"
    }
   ],
   "source": [
    "observations.groupby(\"park_name\")[\"observations\"].sum()"
   ]
  },
  {
   "cell_type": "code",
   "execution_count": 204,
   "metadata": {},
   "outputs": [
    {
     "data": {
      "text/plain": [
       "park_name\n",
       "Bryce National Park                    5824\n",
       "Great Smoky Mountains National Park    5824\n",
       "Yellowstone National Park              5824\n",
       "Yosemite National Park                 5824\n",
       "Name: scientific_name, dtype: int64"
      ]
     },
     "execution_count": 204,
     "metadata": {},
     "output_type": "execute_result"
    }
   ],
   "source": [
    "observations.groupby([\"park_name\"])[\"scientific_name\"].count()"
   ]
  },
  {
   "cell_type": "markdown",
   "metadata": {},
   "source": [
    "Interestingly, in each park we have 5824 observations, while there are only 5541 unique species names."
   ]
  },
  {
   "cell_type": "code",
   "execution_count": 227,
   "metadata": {},
   "outputs": [
    {
     "name": "stdout",
     "output_type": "stream",
     "text": [
      "Amount of duplicated observations in each park:\n",
      "park_name\n",
      "Bryce National Park                    274\n",
      "Great Smoky Mountains National Park    274\n",
      "Yellowstone National Park              274\n",
      "Yosemite National Park                 274\n",
      "dtype: int64\n",
      "\n",
      "Are some species duplicated more than once? Let us see the maximum duplication number.\n",
      "3\n",
      "\n",
      "How many unique species are duplicated?\n"
     ]
    },
    {
     "data": {
      "text/plain": [
       "274"
      ]
     },
     "execution_count": 227,
     "metadata": {},
     "output_type": "execute_result"
    }
   ],
   "source": [
    "grouped = observations.groupby([\"park_name\", \"scientific_name\"]).size().reset_index(name=\"count\")\n",
    "duplicated = grouped[grouped[\"count\"] > 1].reset_index(drop=True)\n",
    "print(\"Amount of duplicated observations in each park:\")\n",
    "print(duplicated.groupby(\"park_name\").size())\n",
    "print(\"\")\n",
    "print(\"Are some species duplicated more than once? Let us see the maximum duplication number.\")\n",
    "print(duplicated[\"count\"].max())\n",
    "print(\"\")\n",
    "print(\"How many unique species are duplicated?\")\n",
    "duplicated.scientific_name.nunique()"
   ]
  },
  {
   "cell_type": "markdown",
   "metadata": {},
   "source": [
    "The dataset provided from Codecademy seems to have some unexpected structure. It is highly unlikely that over 4 national parks of different sizes, each park has exactly the same number of duplicated observations.\n",
    "\n",
    "Let us investigate if the duplicated observations are evenly distributed over all categories, or if there is some skewedness."
   ]
  },
  {
   "cell_type": "code",
   "execution_count": 248,
   "metadata": {},
   "outputs": [
    {
     "name": "stdout",
     "output_type": "stream",
     "text": [
      "Duplicated observations per park and per species: \n"
     ]
    },
    {
     "data": {
      "text/plain": [
       "category        park_name                          \n",
       "Amphibian       Bryce National Park                      1\n",
       "                Great Smoky Mountains National Park      1\n",
       "                Yellowstone National Park                1\n",
       "                Yosemite National Park                   1\n",
       "Bird            Bryce National Park                     31\n",
       "                Great Smoky Mountains National Park     31\n",
       "                Yellowstone National Park               31\n",
       "                Yosemite National Park                  31\n",
       "Fish            Bryce National Park                      2\n",
       "                Great Smoky Mountains National Park      2\n",
       "                Yellowstone National Park                2\n",
       "                Yosemite National Park                   2\n",
       "Mammal          Bryce National Park                     33\n",
       "                Great Smoky Mountains National Park     33\n",
       "                Yellowstone National Park               33\n",
       "                Yosemite National Park                  33\n",
       "Reptile         Bryce National Park                      1\n",
       "                Great Smoky Mountains National Park      1\n",
       "                Yellowstone National Park                1\n",
       "                Yosemite National Park                   1\n",
       "Vascular Plant  Bryce National Park                    206\n",
       "                Great Smoky Mountains National Park    206\n",
       "                Yellowstone National Park              206\n",
       "                Yosemite National Park                 206\n",
       "dtype: int64"
      ]
     },
     "execution_count": 248,
     "metadata": {},
     "output_type": "execute_result"
    }
   ],
   "source": [
    "result =  pd.merge(duplicated, species_cleaned, how='left', on='scientific_name')\n",
    "print(\"Duplicated observations per park and per species: \")\n",
    "result.groupby([\"category\", \"park_name\"]).size()\n",
    "\n"
   ]
  },
  {
   "cell_type": "markdown",
   "metadata": {},
   "source": [
    "Not only do all parks have the same number of duplicate observations, they even have the same distribution over all species. At first glance this distribution seems skewed, but let us put it in percentages."
   ]
  },
  {
   "cell_type": "code",
   "execution_count": 250,
   "metadata": {},
   "outputs": [
    {
     "data": {
      "text/plain": [
       "category\n",
       "Amphibian             1.265823\n",
       "Bird                  6.352459\n",
       "Fish                  1.600000\n",
       "Mammal               18.750000\n",
       "Reptile               1.282051\n",
       "Vascular Plant        4.833412\n",
       "Nonvascular Plant     0.000000\n",
       "dtype: float64"
      ]
     },
     "execution_count": 250,
     "metadata": {},
     "output_type": "execute_result"
    }
   ],
   "source": [
    "original_species_nr = species_cleaned.groupby(\"category\").size()\n",
    "spiecies_duplicated_percent = result[result[\"park_name\"] == \"Yellowstone National Park\"].groupby(\"category\").size()\n",
    "for row in original_species_nr.keys():\n",
    "    if row in spiecies_duplicated_percent.keys():\n",
    "        spiecies_duplicated_percent[row] = spiecies_duplicated_percent[row]/original_species_nr[row]*100\n",
    "    else:\n",
    "        spiecies_duplicated_percent[row] = 0\n",
    "\n",
    "spiecies_duplicated_percent"
   ]
  },
  {
   "cell_type": "markdown",
   "metadata": {},
   "source": [
    "It seems that mammals, birds and vascular plants are most prone to be reported as observed multiple times."
   ]
  },
  {
   "cell_type": "markdown",
   "metadata": {},
   "source": [
    "As we do not have time-series data, we cannot study if the conservation status helps species recover."
   ]
  },
  {
   "cell_type": "markdown",
   "metadata": {},
   "source": [
    "### Focussing on a single type of animal.\n",
    "I like squirrels. What we can address is which park has the most types of squirrel, and where they are most observed."
   ]
  },
  {
   "cell_type": "markdown",
   "metadata": {},
   "source": [
    "First, we have to go over the common_names to find out which animals are squirrels. As is, this will be difficult. With a bit of regex we should be able to make it work."
   ]
  },
  {
   "cell_type": "code",
   "execution_count": 276,
   "metadata": {},
   "outputs": [
    {
     "name": "stdout",
     "output_type": "stream",
     "text": [
      "There are 12 types of squirrel. \n",
      "Of which 1 is protected.\n"
     ]
    }
   ],
   "source": [
    "# get squirrels, unsure about possible capitalization.\n",
    "squirrels = species_cleaned[species_cleaned.apply(\n",
    "    lambda row: (bool(re.search(r\"[sS]quirrel\", row[\"common_names\"]))\n",
    "                 and row[\"category\"]==\"Mammal\"), axis=1)]\n",
    "\n",
    "print(f\"There are {squirrels.shape[0]} types of squirrel. \")\n",
    "print(f\"Of which {squirrels.is_protected.sum()} is protected.\")"
   ]
  },
  {
   "cell_type": "markdown",
   "metadata": {},
   "source": [
    "Ok, so where can we see them?"
   ]
  },
  {
   "cell_type": "code",
   "execution_count": 278,
   "metadata": {},
   "outputs": [
    {
     "data": {
      "text/plain": [
       "park_name\n",
       "Bryce National Park                    12\n",
       "Great Smoky Mountains National Park    12\n",
       "Yellowstone National Park              12\n",
       "Yosemite National Park                 12\n",
       "dtype: int64"
      ]
     },
     "execution_count": 278,
     "metadata": {},
     "output_type": "execute_result"
    }
   ],
   "source": [
    "# By inner joining squirrels to observations we will only have the cells we need.\n",
    "squirrel_observations = pd.merge(observations, squirrels, how='inner', on='scientific_name')\n",
    "squirrel_observations.groupby(\"park_name\").size()"
   ]
  },
  {
   "cell_type": "markdown",
   "metadata": {},
   "source": [
    "Nice, all squirrel species are prtesent in all parks.\n",
    "Where are the most?"
   ]
  },
  {
   "cell_type": "code",
   "execution_count": 299,
   "metadata": {},
   "outputs": [
    {
     "data": {
      "image/png": "[encoded data removed]",
      "text/plain": [
       "<Figure size 432x288 with 1 Axes>"
      ]
     },
     "metadata": {
      "needs_background": "light"
     },
     "output_type": "display_data"
    }
   ],
   "source": [
    "parks = list(squirrel_observations.groupby(\"park_name\").groups.keys())\n",
    "plt.bar(parks, squirrel_observations.groupby(\"park_name\").observations.sum())\n",
    "plt.xticks(rotation=60)\n",
    "plt.show()"
   ]
  },
  {
   "cell_type": "markdown",
   "metadata": {},
   "source": [
    "Is the protected species also highly present in Yellowstone?"
   ]
  },
  {
   "cell_type": "code",
   "execution_count": 303,
   "metadata": {},
   "outputs": [
    {
     "data": {
      "image/png": "[encoded data removed]",
      "text/plain": [
       "<Figure size 1152x288 with 1 Axes>"
      ]
     },
     "metadata": {
      "needs_background": "light"
     },
     "output_type": "display_data"
    }
   ],
   "source": [
    "plt.figure(figsize=(16, 4))\n",
    "sns.barplot(x=squirrel_observations.park_name, y= squirrel_observations.observations, hue=squirrel_observations.is_protected)\n",
    "plt.xlabel('National Parks')\n",
    "plt.ylabel('Number of Observations')\n",
    "plt.title('Observations of Squirrels per Week')\n",
    "plt.show()"
   ]
  },
  {
   "cell_type": "markdown",
   "metadata": {},
   "source": [
    "It seems that all parks are good for people that like to spot squirrels."
   ]
  },
  {
   "cell_type": "markdown",
   "metadata": {},
   "source": [
    "## Conclusions\n"
   ]
  }
 ],
 "metadata": {
  "kernelspec": {
   "display_name": "Python 3",
   "language": "python",
   "name": "python3"
  },
  "language_info": {
   "codemirror_mode": {
    "name": "ipython",
    "version": 3
   },
   "file_extension": ".py",
   "mimetype": "text/x-python",
   "name": "python",
   "nbconvert_exporter": "python",
   "pygments_lexer": "ipython3",
   "version": "3.10.4"
  }
 },
 "nbformat": 4,
 "nbformat_minor": 2
}
